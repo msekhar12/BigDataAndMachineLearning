{
 "cells": [
  {
   "cell_type": "markdown",
   "metadata": {},
   "source": [
    "# Exploratory Data Analysis and Model Development\n",
    "\n",
    "In the first section, we will perform Exploratory Data Analysis, and in the second section we will develop a predictive model for the survival.\n",
    "\n",
    "## 1. Titanic data set exploratory data analysis\n",
    "\n",
    "Importing the required packages"
   ]
  },
  {
   "cell_type": "code",
   "execution_count": 1,
   "metadata": {
    "collapsed": true
   },
   "outputs": [],
   "source": [
    "import os\n",
    "import tarfile\n",
    "from six.moves import urllib\n",
    "import pandas as pd\n",
    "%matplotlib inline\n",
    "import matplotlib.pyplot as plt\n",
    "import numpy as np"
   ]
  },
  {
   "cell_type": "markdown",
   "metadata": {},
   "source": [
    "## Reading the training data\n",
    "\n",
    "Reading the training data and displaying sample records:"
   ]
  },
  {
   "cell_type": "code",
   "execution_count": 2,
   "metadata": {},
   "outputs": [
    {
     "data": {
      "text/html": [
       "<div>\n",
       "<style>\n",
       "    .dataframe thead tr:only-child th {\n",
       "        text-align: right;\n",
       "    }\n",
       "\n",
       "    .dataframe thead th {\n",
       "        text-align: left;\n",
       "    }\n",
       "\n",
       "    .dataframe tbody tr th {\n",
       "        vertical-align: top;\n",
       "    }\n",
       "</style>\n",
       "<table border=\"1\" class=\"dataframe\">\n",
       "  <thead>\n",
       "    <tr style=\"text-align: right;\">\n",
       "      <th></th>\n",
       "      <th>PassengerId</th>\n",
       "      <th>Survived</th>\n",
       "      <th>Pclass</th>\n",
       "      <th>Name</th>\n",
       "      <th>Sex</th>\n",
       "      <th>Age</th>\n",
       "      <th>SibSp</th>\n",
       "      <th>Parch</th>\n",
       "      <th>Ticket</th>\n",
       "      <th>Fare</th>\n",
       "      <th>Cabin</th>\n",
       "      <th>Embarked</th>\n",
       "    </tr>\n",
       "  </thead>\n",
       "  <tbody>\n",
       "    <tr>\n",
       "      <th>0</th>\n",
       "      <td>1</td>\n",
       "      <td>0</td>\n",
       "      <td>3</td>\n",
       "      <td>Braund, Mr. Owen Harris</td>\n",
       "      <td>male</td>\n",
       "      <td>22.0</td>\n",
       "      <td>1</td>\n",
       "      <td>0</td>\n",
       "      <td>A/5 21171</td>\n",
       "      <td>7.2500</td>\n",
       "      <td>NaN</td>\n",
       "      <td>S</td>\n",
       "    </tr>\n",
       "    <tr>\n",
       "      <th>1</th>\n",
       "      <td>2</td>\n",
       "      <td>1</td>\n",
       "      <td>1</td>\n",
       "      <td>Cumings, Mrs. John Bradley (Florence Briggs Th...</td>\n",
       "      <td>female</td>\n",
       "      <td>38.0</td>\n",
       "      <td>1</td>\n",
       "      <td>0</td>\n",
       "      <td>PC 17599</td>\n",
       "      <td>71.2833</td>\n",
       "      <td>C85</td>\n",
       "      <td>C</td>\n",
       "    </tr>\n",
       "    <tr>\n",
       "      <th>2</th>\n",
       "      <td>3</td>\n",
       "      <td>1</td>\n",
       "      <td>3</td>\n",
       "      <td>Heikkinen, Miss. Laina</td>\n",
       "      <td>female</td>\n",
       "      <td>26.0</td>\n",
       "      <td>0</td>\n",
       "      <td>0</td>\n",
       "      <td>STON/O2. 3101282</td>\n",
       "      <td>7.9250</td>\n",
       "      <td>NaN</td>\n",
       "      <td>S</td>\n",
       "    </tr>\n",
       "    <tr>\n",
       "      <th>3</th>\n",
       "      <td>4</td>\n",
       "      <td>1</td>\n",
       "      <td>1</td>\n",
       "      <td>Futrelle, Mrs. Jacques Heath (Lily May Peel)</td>\n",
       "      <td>female</td>\n",
       "      <td>35.0</td>\n",
       "      <td>1</td>\n",
       "      <td>0</td>\n",
       "      <td>113803</td>\n",
       "      <td>53.1000</td>\n",
       "      <td>C123</td>\n",
       "      <td>S</td>\n",
       "    </tr>\n",
       "    <tr>\n",
       "      <th>4</th>\n",
       "      <td>5</td>\n",
       "      <td>0</td>\n",
       "      <td>3</td>\n",
       "      <td>Allen, Mr. William Henry</td>\n",
       "      <td>male</td>\n",
       "      <td>35.0</td>\n",
       "      <td>0</td>\n",
       "      <td>0</td>\n",
       "      <td>373450</td>\n",
       "      <td>8.0500</td>\n",
       "      <td>NaN</td>\n",
       "      <td>S</td>\n",
       "    </tr>\n",
       "  </tbody>\n",
       "</table>\n",
       "</div>"
      ],
      "text/plain": [
       "   PassengerId  Survived  Pclass  \\\n",
       "0            1         0       3   \n",
       "1            2         1       1   \n",
       "2            3         1       3   \n",
       "3            4         1       1   \n",
       "4            5         0       3   \n",
       "\n",
       "                                                Name     Sex   Age  SibSp  \\\n",
       "0                            Braund, Mr. Owen Harris    male  22.0      1   \n",
       "1  Cumings, Mrs. John Bradley (Florence Briggs Th...  female  38.0      1   \n",
       "2                             Heikkinen, Miss. Laina  female  26.0      0   \n",
       "3       Futrelle, Mrs. Jacques Heath (Lily May Peel)  female  35.0      1   \n",
       "4                           Allen, Mr. William Henry    male  35.0      0   \n",
       "\n",
       "   Parch            Ticket     Fare Cabin Embarked  \n",
       "0      0         A/5 21171   7.2500   NaN        S  \n",
       "1      0          PC 17599  71.2833   C85        C  \n",
       "2      0  STON/O2. 3101282   7.9250   NaN        S  \n",
       "3      0            113803  53.1000  C123        S  \n",
       "4      0            373450   8.0500   NaN        S  "
      ]
     },
     "execution_count": 2,
     "metadata": {},
     "output_type": "execute_result"
    }
   ],
   "source": [
    "df = pd.read_csv('./train.csv')\n",
    "df.head()"
   ]
  },
  {
   "cell_type": "markdown",
   "metadata": {},
   "source": [
    "Looks like we have some Null values in some of the columns. Let us display information of all the columns:"
   ]
  },
  {
   "cell_type": "code",
   "execution_count": 3,
   "metadata": {},
   "outputs": [
    {
     "name": "stdout",
     "output_type": "stream",
     "text": [
      "<class 'pandas.core.frame.DataFrame'>\n",
      "RangeIndex: 891 entries, 0 to 890\n",
      "Data columns (total 12 columns):\n",
      "PassengerId    891 non-null int64\n",
      "Survived       891 non-null int64\n",
      "Pclass         891 non-null int64\n",
      "Name           891 non-null object\n",
      "Sex            891 non-null object\n",
      "Age            714 non-null float64\n",
      "SibSp          891 non-null int64\n",
      "Parch          891 non-null int64\n",
      "Ticket         891 non-null object\n",
      "Fare           891 non-null float64\n",
      "Cabin          204 non-null object\n",
      "Embarked       889 non-null object\n",
      "dtypes: float64(2), int64(5), object(5)\n",
      "memory usage: 83.6+ KB\n"
     ]
    }
   ],
   "source": [
    "#df.describe()\n",
    "df.info()"
   ]
  },
  {
   "cell_type": "markdown",
   "metadata": {},
   "source": [
    "Three columns _Age, Cabin_ and _Embarked_ have null values."
   ]
  },
  {
   "cell_type": "code",
   "execution_count": 4,
   "metadata": {},
   "outputs": [
    {
     "name": "stdout",
     "output_type": "stream",
     "text": [
      "% of nulls in Cabin:77.1%\n",
      "% of nulls in Age:19.87%\n",
      "% of nulls in Embarkerd:0.22%\n"
     ]
    }
   ],
   "source": [
    "cabin_null=pd.isnull(df['Cabin']).sum()/df.shape[0]\n",
    "age_null=pd.isnull(df['Age']).sum()/df.shape[0]\n",
    "embarked_null=pd.isnull(df['Embarked']).sum()/df.shape[0]\n",
    "\n",
    "print(\"% of nulls in Cabin:{}%\".format(round(cabin_null*100,2)))\n",
    "print(\"% of nulls in Age:{}%\".format(round(age_null*100,2)))\n",
    "print(\"% of nulls in Embarkerd:{}%\".format(round(embarked_null*100,2)))"
   ]
  },
  {
   "cell_type": "markdown",
   "metadata": {},
   "source": [
    "The _Cabin_ has lot of Null values. We will try the following three options to tackle this:\n",
    "\n",
    "1. Convert _Cabin_ values such that the presence of a value is represented by 1, and null as 0\n",
    "2. Drop the column _Cabin_\n",
    "\n",
    "For _Age_ and _Embarked_ we will have the following options:\n",
    "\n",
    "1. Replace the nulls with median value\n",
    "2. Replace the nulls with mean value\n",
    "3. Replace the nulls with most frequent value\n",
    "\n",
    "\n",
    "Before we perform any data transformations, let us perform some exploratory data analysis"
   ]
  },
  {
   "cell_type": "code",
   "execution_count": 6,
   "metadata": {
    "collapsed": true
   },
   "outputs": [],
   "source": [
    "import seaborn as sns"
   ]
  },
  {
   "cell_type": "markdown",
   "metadata": {},
   "source": [
    "### Is there any relationship between Gender, Passenger class and Survival rate?"
   ]
  },
  {
   "cell_type": "code",
   "execution_count": 7,
   "metadata": {},
   "outputs": [
    {
     "data": {
      "image/png": "[encoded data removed]",
      "text/plain": [
       "<matplotlib.figure.Figure at 0x1445898ca20>"
      ]
     },
     "metadata": {},
     "output_type": "display_data"
    }
   ],
   "source": [
    "sns.set(style=\"whitegrid\")\n",
    "g = sns.factorplot(x=\"Pclass\",y=\"Survived\", hue=\"Sex\", data=df,\n",
    "                   size=6, kind=\"bar\", palette=\"muted\")\n",
    "g.despine(left=True)\n",
    "g.set_ylabels(\"survival probability\")\n",
    "plt.title(\"Survival rates by gender and passenger class\")\n",
    "plt.show()\n"
   ]
  },
  {
   "cell_type": "markdown",
   "metadata": {},
   "source": [
    "The above plot we can infer the following:\n",
    "* The plot clearly shows that the survival rate is very low for male passengers while the survival rate is very high for female passengers. \n",
    "* The class 1 passengers have more survival chances than class 2, while class 3 has the least survival chances. \n",
    "* The survival chance of femal passenger is atleast 50%, irrespective of the passenger class, while the survival chance of male passengers is less than 0.4, irrespective of the passenger class. \n",
    "* Based on the above plot we can confirm that the Sex, Pclass variables are important to determine the survival chance of a passenger."
   ]
  },
  {
   "cell_type": "markdown",
   "metadata": {},
   "source": [
    "### Gender, Age, Survival analysis"
   ]
  },
  {
   "cell_type": "code",
   "execution_count": 8,
   "metadata": {},
   "outputs": [
    {
     "data": {
      "image/png": "[encoded data removed]",
      "text/plain": [
       "<matplotlib.figure.Figure at 0x14458c1a390>"
      ]
     },
     "metadata": {},
     "output_type": "display_data"
    }
   ],
   "source": [
    "plt.figure(figsize=(16,6))\n",
    "plt.hist(df[(df['Sex']=='male') & (df['Survived']==1)]['Age'].dropna(),bins=10,alpha=0.8,color='g',label=\"Survived\")\n",
    "plt.hist(df[(df['Sex']=='male') & (df['Survived'] == 0)]['Age'].dropna(),bins=10,alpha=0.4,color='r',label=\"Not Survived\")\n",
    "plt.legend()\n",
    "plt.xlabel(\"Men Age\")\n",
    "plt.ylabel(\"Count\")\n",
    "plt.title(\"Men survival vs Age\")\n",
    "plt.show()"
   ]
  },
  {
   "cell_type": "markdown",
   "metadata": {},
   "source": [
    "Clearly, the survival rate of men is very low, only men of age below 10 years have a better survival chance. Between 65-72 years age, the survival chance is none."
   ]
  },
  {
   "cell_type": "code",
   "execution_count": 9,
   "metadata": {},
   "outputs": [
    {
     "data": {
      "image/png": "[encoded data removed]",
      "text/plain": [
       "<matplotlib.figure.Figure at 0x1445898c5c0>"
      ]
     },
     "metadata": {},
     "output_type": "display_data"
    }
   ],
   "source": [
    "plt.figure(figsize=(16,6))\n",
    "plt.hist(df[(df['Sex']=='female') & (df['Survived']==1)]['Age'].dropna(),bins=10,alpha=0.8,color='g',label=\"Survived\")\n",
    "plt.hist(df[(df['Sex']=='female') & (df['Survived'] == 0)]['Age'].dropna(),bins=10,alpha=0.4,color='r',label=\"Not Survived\")\n",
    "plt.legend()\n",
    "plt.xlabel(\"Women Age\")\n",
    "plt.ylabel(\"Count\")\n",
    "plt.title(\"Women survival vs Age\")\n",
    "plt.show()"
   ]
  },
  {
   "cell_type": "markdown",
   "metadata": {},
   "source": [
    "The women survival chance is very high. Except for the age 7 - 13 years, all other age groups have better survival rate. Women above 55 years age (approximately) has almost 100% survival chance."
   ]
  },
  {
   "cell_type": "code",
   "execution_count": 10,
   "metadata": {},
   "outputs": [
    {
     "data": {
      "image/png": "[encoded data removed]",
      "text/plain": [
       "<matplotlib.figure.Figure at 0x1445898c2e8>"
      ]
     },
     "metadata": {},
     "output_type": "display_data"
    }
   ],
   "source": [
    "plt.figure(figsize=(16,6))\n",
    "plt.hist(df[(df['Survived']==1)]['Fare'].dropna(),bins=10,alpha=0.8,color='g',label=\"Survived\")\n",
    "plt.hist(df[(df['Survived']==0)]['Fare'].dropna(),bins=10,alpha=0.8,color='r',label=\"Not Survived\")\n",
    "plt.legend()\n",
    "plt.xlabel(\"Fare\")\n",
    "plt.ylabel(\"Count\")\n",
    "plt.title(\"Fare vs Survival\")\n",
    "plt.show()"
   ]
  },
  {
   "cell_type": "markdown",
   "metadata": {},
   "source": [
    "Passengers with a fare of above Pounds 25 have better survival chances than the passengers travelling with a ticket price of below pounds 25."
   ]
  },
  {
   "cell_type": "markdown",
   "metadata": {},
   "source": [
    "From the above plots we can confirm that the gender, and age are important variables to determine the survival chances."
   ]
  },
  {
   "cell_type": "code",
   "execution_count": 11,
   "metadata": {},
   "outputs": [
    {
     "data": {
      "image/png": "[encoded data removed]",
      "text/plain": [
       "<matplotlib.figure.Figure at 0x14458d85e48>"
      ]
     },
     "metadata": {},
     "output_type": "display_data"
    }
   ],
   "source": [
    "sns.set(style=\"whitegrid\")\n",
    "g = sns.factorplot(x=\"Embarked\",y=\"Survived\", hue=\"Sex\", data=df,\n",
    "                   size=6, kind=\"bar\", palette=\"muted\")\n",
    "g.despine(left=True)\n",
    "g.set_ylabels(\"survival probability\")\n",
    "plt.title(\"Survival rates by gender and Embarked class\")\n",
    "plt.show()\n"
   ]
  },
  {
   "cell_type": "markdown",
   "metadata": {},
   "source": [
    "Irrespective of the Embarked category, the survival probability of men is always less than 50%, while for women it is at least 60%. "
   ]
  },
  {
   "cell_type": "markdown",
   "metadata": {},
   "source": [
    "## 2. Predictive Model\n",
    "\n",
    "### Base Model\n",
    "\n",
    "The survival probability is shown below:"
   ]
  },
  {
   "cell_type": "code",
   "execution_count": 12,
   "metadata": {},
   "outputs": [
    {
     "name": "stdout",
     "output_type": "stream",
     "text": [
      "0    549\n",
      "1    342\n",
      "Name: Survived, dtype: int64\n",
      "pribability of survival: 38.38%\n"
     ]
    }
   ],
   "source": [
    "survival_summary=df['Survived'].value_counts()\n",
    "print(survival_summary)\n",
    "print(\"pribability of survival: {:2.2f}%\".format(100*survival_summary[1]/(survival_summary[0]+survival_summary[1])))"
   ]
  },
  {
   "cell_type": "markdown",
   "metadata": {},
   "source": [
    "Our base model will predict 38% of the times as survival and 62% of the times as not survived, randomly. This model will have an accuracy of 38% on average. Our goal is to beat this base model's  accuracy. "
   ]
  },
  {
   "cell_type": "markdown",
   "metadata": {},
   "source": [
    "In this section we will develop pipeline to perform data transformations, fit some machine learning models, and evaluate them based on 5 fold cross validation. "
   ]
  },
  {
   "cell_type": "markdown",
   "metadata": {},
   "source": [
    "### Test / Train split\n",
    "\n",
    "Let us split the data into test and training sets (20:80 ratio). The test data will not be touched until the final stage of model development (which is model deployment). The test data will act as a final check to measure our model's performance on completely unseen data."
   ]
  },
  {
   "cell_type": "code",
   "execution_count": 13,
   "metadata": {},
   "outputs": [
    {
     "data": {
      "image/png": "[encoded data removed]",
      "text/plain": [
       "<matplotlib.figure.Figure at 0x14458c2f2b0>"
      ]
     },
     "metadata": {},
     "output_type": "display_data"
    }
   ],
   "source": [
    "df.hist('Age',bins=20)\n",
    "plt.xlabel('Age')\n",
    "plt.ylabel('Count')\n",
    "plt.title(\"Age histogram\")\n",
    "plt.show()"
   ]
  },
  {
   "cell_type": "markdown",
   "metadata": {
    "collapsed": true
   },
   "source": [
    "In our EDA, we determined that Age is a very important variable, so we have to make sure that we have identical mix of ages in test and training data. To achieve this, we will divide the age into 8 categories, and use age category to perform stratified samling for test/train split."
   ]
  },
  {
   "cell_type": "code",
   "execution_count": 14,
   "metadata": {
    "collapsed": true
   },
   "outputs": [],
   "source": [
    "np.seterr(divide='ignore', invalid='ignore')\n",
    "\n",
    "df['age_cat'] = np.ceil(df[\"Age\"]/8)\n",
    "\n",
    "df[\"age_cat\"].where(df[\"age_cat\"] < 8, 8.0,inplace=True)"
   ]
  },
  {
   "cell_type": "code",
   "execution_count": 15,
   "metadata": {},
   "outputs": [
    {
     "data": {
      "text/html": [
       "<div>\n",
       "<style>\n",
       "    .dataframe thead tr:only-child th {\n",
       "        text-align: right;\n",
       "    }\n",
       "\n",
       "    .dataframe thead th {\n",
       "        text-align: left;\n",
       "    }\n",
       "\n",
       "    .dataframe tbody tr th {\n",
       "        vertical-align: top;\n",
       "    }\n",
       "</style>\n",
       "<table border=\"1\" class=\"dataframe\">\n",
       "  <thead>\n",
       "    <tr style=\"text-align: right;\">\n",
       "      <th></th>\n",
       "      <th>PassengerId</th>\n",
       "      <th>Survived</th>\n",
       "      <th>Pclass</th>\n",
       "      <th>Name</th>\n",
       "      <th>Sex</th>\n",
       "      <th>Age</th>\n",
       "      <th>SibSp</th>\n",
       "      <th>Parch</th>\n",
       "      <th>Ticket</th>\n",
       "      <th>Fare</th>\n",
       "      <th>Cabin</th>\n",
       "      <th>Embarked</th>\n",
       "      <th>age_cat</th>\n",
       "    </tr>\n",
       "  </thead>\n",
       "  <tbody>\n",
       "    <tr>\n",
       "      <th>0</th>\n",
       "      <td>1</td>\n",
       "      <td>0</td>\n",
       "      <td>3</td>\n",
       "      <td>Braund, Mr. Owen Harris</td>\n",
       "      <td>male</td>\n",
       "      <td>22.0</td>\n",
       "      <td>1</td>\n",
       "      <td>0</td>\n",
       "      <td>A/5 21171</td>\n",
       "      <td>7.2500</td>\n",
       "      <td>NaN</td>\n",
       "      <td>S</td>\n",
       "      <td>3.0</td>\n",
       "    </tr>\n",
       "    <tr>\n",
       "      <th>1</th>\n",
       "      <td>2</td>\n",
       "      <td>1</td>\n",
       "      <td>1</td>\n",
       "      <td>Cumings, Mrs. John Bradley (Florence Briggs Th...</td>\n",
       "      <td>female</td>\n",
       "      <td>38.0</td>\n",
       "      <td>1</td>\n",
       "      <td>0</td>\n",
       "      <td>PC 17599</td>\n",
       "      <td>71.2833</td>\n",
       "      <td>C85</td>\n",
       "      <td>C</td>\n",
       "      <td>5.0</td>\n",
       "    </tr>\n",
       "    <tr>\n",
       "      <th>2</th>\n",
       "      <td>3</td>\n",
       "      <td>1</td>\n",
       "      <td>3</td>\n",
       "      <td>Heikkinen, Miss. Laina</td>\n",
       "      <td>female</td>\n",
       "      <td>26.0</td>\n",
       "      <td>0</td>\n",
       "      <td>0</td>\n",
       "      <td>STON/O2. 3101282</td>\n",
       "      <td>7.9250</td>\n",
       "      <td>NaN</td>\n",
       "      <td>S</td>\n",
       "      <td>4.0</td>\n",
       "    </tr>\n",
       "    <tr>\n",
       "      <th>3</th>\n",
       "      <td>4</td>\n",
       "      <td>1</td>\n",
       "      <td>1</td>\n",
       "      <td>Futrelle, Mrs. Jacques Heath (Lily May Peel)</td>\n",
       "      <td>female</td>\n",
       "      <td>35.0</td>\n",
       "      <td>1</td>\n",
       "      <td>0</td>\n",
       "      <td>113803</td>\n",
       "      <td>53.1000</td>\n",
       "      <td>C123</td>\n",
       "      <td>S</td>\n",
       "      <td>5.0</td>\n",
       "    </tr>\n",
       "    <tr>\n",
       "      <th>4</th>\n",
       "      <td>5</td>\n",
       "      <td>0</td>\n",
       "      <td>3</td>\n",
       "      <td>Allen, Mr. William Henry</td>\n",
       "      <td>male</td>\n",
       "      <td>35.0</td>\n",
       "      <td>0</td>\n",
       "      <td>0</td>\n",
       "      <td>373450</td>\n",
       "      <td>8.0500</td>\n",
       "      <td>NaN</td>\n",
       "      <td>S</td>\n",
       "      <td>5.0</td>\n",
       "    </tr>\n",
       "  </tbody>\n",
       "</table>\n",
       "</div>"
      ],
      "text/plain": [
       "   PassengerId  Survived  Pclass  \\\n",
       "0            1         0       3   \n",
       "1            2         1       1   \n",
       "2            3         1       3   \n",
       "3            4         1       1   \n",
       "4            5         0       3   \n",
       "\n",
       "                                                Name     Sex   Age  SibSp  \\\n",
       "0                            Braund, Mr. Owen Harris    male  22.0      1   \n",
       "1  Cumings, Mrs. John Bradley (Florence Briggs Th...  female  38.0      1   \n",
       "2                             Heikkinen, Miss. Laina  female  26.0      0   \n",
       "3       Futrelle, Mrs. Jacques Heath (Lily May Peel)  female  35.0      1   \n",
       "4                           Allen, Mr. William Henry    male  35.0      0   \n",
       "\n",
       "   Parch            Ticket     Fare Cabin Embarked  age_cat  \n",
       "0      0         A/5 21171   7.2500   NaN        S      3.0  \n",
       "1      0          PC 17599  71.2833   C85        C      5.0  \n",
       "2      0  STON/O2. 3101282   7.9250   NaN        S      4.0  \n",
       "3      0            113803  53.1000  C123        S      5.0  \n",
       "4      0            373450   8.0500   NaN        S      5.0  "
      ]
     },
     "execution_count": 15,
     "metadata": {},
     "output_type": "execute_result"
    }
   ],
   "source": [
    "df.head()"
   ]
  },
  {
   "cell_type": "markdown",
   "metadata": {},
   "source": [
    "Let us perform random split in data based on age category (new variable), used to stratify the split."
   ]
  },
  {
   "cell_type": "code",
   "execution_count": 16,
   "metadata": {
    "collapsed": true
   },
   "outputs": [],
   "source": [
    "from sklearn.model_selection import StratifiedShuffleSplit\n",
    "from sklearn.model_selection import train_test_split\n",
    "split =  StratifiedShuffleSplit(n_splits = 1, test_size=0.2, random_state=42)\n",
    "X = df.drop(['Survived'],axis=1)\n",
    "y = df['Survived']\n",
    "X_train, X_test, y_train, y_test = train_test_split( X, y, test_size=0.2, random_state=42, stratify=X['age_cat'])"
   ]
  },
  {
   "cell_type": "markdown",
   "metadata": {},
   "source": [
    "Make sure that the age categories are identically distributed in both the test and training data:"
   ]
  },
  {
   "cell_type": "code",
   "execution_count": 17,
   "metadata": {},
   "outputs": [
    {
     "name": "stdout",
     "output_type": "stream",
     "text": [
      "Age distribution in Training data:\n",
      "8.0    0.237360\n",
      "3.0    0.199438\n",
      "4.0    0.189607\n",
      "5.0    0.132022\n",
      "6.0    0.078652\n",
      "1.0    0.060393\n",
      "2.0    0.051966\n",
      "7.0    0.050562\n",
      "Name: age_cat, dtype: float64\n",
      "Age distribution in Test data:\n",
      "8.0    0.240223\n",
      "3.0    0.195531\n",
      "4.0    0.189944\n",
      "5.0    0.134078\n",
      "6.0    0.078212\n",
      "1.0    0.061453\n",
      "2.0    0.050279\n",
      "7.0    0.050279\n",
      "Name: age_cat, dtype: float64\n"
     ]
    }
   ],
   "source": [
    "print(\"Age distribution in Training data:\") \n",
    "print(X_train['age_cat'].value_counts()/len(X_train))\n",
    "\n",
    "print(\"Age distribution in Test data:\") \n",
    "print(X_test['age_cat'].value_counts()/len(X_test))"
   ]
  },
  {
   "cell_type": "markdown",
   "metadata": {},
   "source": [
    "We no more need age_cat variable, so let us drop that."
   ]
  },
  {
   "cell_type": "code",
   "execution_count": 18,
   "metadata": {
    "collapsed": true
   },
   "outputs": [],
   "source": [
    "X_train=X_train.drop(['age_cat'],axis=1)\n",
    "X_test=X_test.drop(['age_cat'],axis=1)"
   ]
  },
  {
   "cell_type": "markdown",
   "metadata": {},
   "source": [
    "Display sample rows of X_train"
   ]
  },
  {
   "cell_type": "code",
   "execution_count": 19,
   "metadata": {},
   "outputs": [
    {
     "data": {
      "text/html": [
       "<div>\n",
       "<style>\n",
       "    .dataframe thead tr:only-child th {\n",
       "        text-align: right;\n",
       "    }\n",
       "\n",
       "    .dataframe thead th {\n",
       "        text-align: left;\n",
       "    }\n",
       "\n",
       "    .dataframe tbody tr th {\n",
       "        vertical-align: top;\n",
       "    }\n",
       "</style>\n",
       "<table border=\"1\" class=\"dataframe\">\n",
       "  <thead>\n",
       "    <tr style=\"text-align: right;\">\n",
       "      <th></th>\n",
       "      <th>PassengerId</th>\n",
       "      <th>Pclass</th>\n",
       "      <th>Name</th>\n",
       "      <th>Sex</th>\n",
       "      <th>Age</th>\n",
       "      <th>SibSp</th>\n",
       "      <th>Parch</th>\n",
       "      <th>Ticket</th>\n",
       "      <th>Fare</th>\n",
       "      <th>Cabin</th>\n",
       "      <th>Embarked</th>\n",
       "    </tr>\n",
       "  </thead>\n",
       "  <tbody>\n",
       "    <tr>\n",
       "      <th>803</th>\n",
       "      <td>804</td>\n",
       "      <td>3</td>\n",
       "      <td>Thomas, Master. Assad Alexander</td>\n",
       "      <td>male</td>\n",
       "      <td>0.42</td>\n",
       "      <td>0</td>\n",
       "      <td>1</td>\n",
       "      <td>2625</td>\n",
       "      <td>8.5167</td>\n",
       "      <td>NaN</td>\n",
       "      <td>C</td>\n",
       "    </tr>\n",
       "    <tr>\n",
       "      <th>866</th>\n",
       "      <td>867</td>\n",
       "      <td>2</td>\n",
       "      <td>Duran y More, Miss. Asuncion</td>\n",
       "      <td>female</td>\n",
       "      <td>27.00</td>\n",
       "      <td>1</td>\n",
       "      <td>0</td>\n",
       "      <td>SC/PARIS 2149</td>\n",
       "      <td>13.8583</td>\n",
       "      <td>NaN</td>\n",
       "      <td>C</td>\n",
       "    </tr>\n",
       "    <tr>\n",
       "      <th>412</th>\n",
       "      <td>413</td>\n",
       "      <td>1</td>\n",
       "      <td>Minahan, Miss. Daisy E</td>\n",
       "      <td>female</td>\n",
       "      <td>33.00</td>\n",
       "      <td>1</td>\n",
       "      <td>0</td>\n",
       "      <td>19928</td>\n",
       "      <td>90.0000</td>\n",
       "      <td>C78</td>\n",
       "      <td>Q</td>\n",
       "    </tr>\n",
       "    <tr>\n",
       "      <th>806</th>\n",
       "      <td>807</td>\n",
       "      <td>1</td>\n",
       "      <td>Andrews, Mr. Thomas Jr</td>\n",
       "      <td>male</td>\n",
       "      <td>39.00</td>\n",
       "      <td>0</td>\n",
       "      <td>0</td>\n",
       "      <td>112050</td>\n",
       "      <td>0.0000</td>\n",
       "      <td>A36</td>\n",
       "      <td>S</td>\n",
       "    </tr>\n",
       "    <tr>\n",
       "      <th>484</th>\n",
       "      <td>485</td>\n",
       "      <td>1</td>\n",
       "      <td>Bishop, Mr. Dickinson H</td>\n",
       "      <td>male</td>\n",
       "      <td>25.00</td>\n",
       "      <td>1</td>\n",
       "      <td>0</td>\n",
       "      <td>11967</td>\n",
       "      <td>91.0792</td>\n",
       "      <td>B49</td>\n",
       "      <td>C</td>\n",
       "    </tr>\n",
       "  </tbody>\n",
       "</table>\n",
       "</div>"
      ],
      "text/plain": [
       "     PassengerId  Pclass                             Name     Sex    Age  \\\n",
       "803          804       3  Thomas, Master. Assad Alexander    male   0.42   \n",
       "866          867       2     Duran y More, Miss. Asuncion  female  27.00   \n",
       "412          413       1           Minahan, Miss. Daisy E  female  33.00   \n",
       "806          807       1           Andrews, Mr. Thomas Jr    male  39.00   \n",
       "484          485       1          Bishop, Mr. Dickinson H    male  25.00   \n",
       "\n",
       "     SibSp  Parch         Ticket     Fare Cabin Embarked  \n",
       "803      0      1           2625   8.5167   NaN        C  \n",
       "866      1      0  SC/PARIS 2149  13.8583   NaN        C  \n",
       "412      1      0          19928  90.0000   C78        Q  \n",
       "806      0      0         112050   0.0000   A36        S  \n",
       "484      1      0          11967  91.0792   B49        C  "
      ]
     },
     "execution_count": 19,
     "metadata": {},
     "output_type": "execute_result"
    }
   ],
   "source": [
    "X_train.head()"
   ]
  },
  {
   "cell_type": "markdown",
   "metadata": {},
   "source": [
    "### Building the pipelines\n",
    "\n",
    "We will use the following transformations, and each of these possible combinations effect on algorithms performance is tested by using Cross Validation method:\n",
    "\n",
    "* The _Cabin_ column has a lot of Null values. So we will test two possible combinations: \n",
    "  1. Drop the _Cabin_ column\n",
    "  2. Replace the _Cabin_ column with another column *Cabin_Indicator*. This new column will have 1 whenever the _Cabin_ has a non-null value. If the _Cabin_ variable has null vaue, then the new column will have a 0\n",
    "\n",
    "\n",
    "* The _Sex_ variable does not have any nullvalue, and we will use LabelBinarizer() to transform the values in _Sex_\n",
    "\n",
    "\n",
    "* The Pclass has 3 values 3, 2, 1. We will treat these as character variables, and apply LabelBinarizer() on this column also\n",
    "\n",
    "\n",
    "* The _Age_ column has null values. So we will try 3 combinations:\n",
    "   1. Replace all null values with median\n",
    "   2. Replace all null values with mean\n",
    "   3. Replace all null values with most frequent value\n",
    "\n",
    "\n",
    "* The _Embarked_ column has 0.22% of null values (or 2 rows. See below code block). We will test the following 2 options:\n",
    "   1. Drop the null rows\n",
    "   2. Treat the null value as a separate class called _Null_, and apply LabelBinarizer()  \n",
    "\n",
    "Pipelines help us to evaluate all the above transformations using Cross Validation technique, and help us to maintain consistency in our hyper parameter tuning."
   ]
  },
  {
   "cell_type": "code",
   "execution_count": 20,
   "metadata": {},
   "outputs": [
    {
     "data": {
      "text/plain": [
       "2"
      ]
     },
     "execution_count": 20,
     "metadata": {},
     "output_type": "execute_result"
    }
   ],
   "source": [
    "sum(df['Embarked'].isnull())"
   ]
  },
  {
   "cell_type": "markdown",
   "metadata": {},
   "source": [
    "## Pipelines, transformations, and predictive model development"
   ]
  },
  {
   "cell_type": "code",
   "execution_count": 21,
   "metadata": {},
   "outputs": [
    {
     "name": "stdout",
     "output_type": "stream",
     "text": [
      "Saved the test data to test_data_inputs.files and test_data_output.csv files\n",
      "\n",
      "\n",
      "Transformed data (initial 5 rows only), which is ready for training is displayed below:\n",
      "\n",
      "        Age  SibSp     Parch      Fare  Cabin_Indicator  Pclass_1  Pclass_2  \\\n",
      "0  0.000000  0.000  0.166667  0.016623              0.0       0.0       0.0   \n",
      "1  0.334004  0.125  0.000000  0.027050              0.0       0.0       1.0   \n",
      "2  0.409399  0.125  0.000000  0.175668              1.0       1.0       0.0   \n",
      "3  0.484795  0.000  0.000000  0.000000              1.0       1.0       0.0   \n",
      "4  0.308872  0.125  0.000000  0.177775              1.0       1.0       0.0   \n",
      "\n",
      "   Sex_male  Embarked_C  Embarked_Q  \n",
      "0       1.0         1.0         0.0  \n",
      "1       0.0         1.0         0.0  \n",
      "2       0.0         0.0         1.0  \n",
      "3       1.0         0.0         0.0  \n",
      "4       1.0         1.0         0.0  \n",
      "Fitting 5 folds for each of 36 candidates, totalling 180 fits\n"
     ]
    },
    {
     "name": "stderr",
     "output_type": "stream",
     "text": [
      "[Parallel(n_jobs=1)]: Done 180 out of 180 | elapsed:  2.1min finished\n"
     ]
    },
    {
     "name": "stdout",
     "output_type": "stream",
     "text": [
      "Best hyper parameters using Random Forests:\n",
      "{'rf__n_estimators': 10, 'full_transform_pipeline__numeric_pipeline__scaledata__std_scaler': True, 'full_transform_pipeline__numeric_pipeline__imputer__strategy': 'mean', 'full_transform_pipeline__cabin_pipeline__CabinTransformer__strategy': 'drop'}\n",
      "Best 5 fold CV score (accuracy):\n",
      "0.790730337079\n",
      "Pipeline(steps=[('full_transform_pipeline', FeatureUnion(n_jobs=1,\n",
      "       transformer_list=[('numeric_pipeline', Pipeline(steps=[('selector', DataFrameSelector(attribute_names=['Age', 'SibSp', 'Parch', 'Fare'])), ('imputer', Imputer(axis=0, copy=True, missing_values='NaN', strategy='mean', verbose=0)), ('sca...imators=10, n_jobs=1, oob_score=False, random_state=None,\n",
      "            verbose=0, warm_start=False))])\n",
      "Saving the best model..\n",
      "Saving Complete!\n"
     ]
    }
   ],
   "source": [
    "#################################\n",
    "##Program Name: train_model.py ##\n",
    "##Python version: 3.4          ##\n",
    "##Author: Sekhar Mekala        ##\n",
    "#################################\n",
    "\n",
    "##Importing all the required packages:\n",
    "\n",
    "import os\n",
    "import pandas as pd\n",
    "#%matplotlib inline\n",
    "import matplotlib.pyplot as plt\n",
    "import numpy as np\n",
    "import seaborn as sns\n",
    "\n",
    "from sklearn.model_selection import StratifiedShuffleSplit\n",
    "from sklearn.model_selection import train_test_split\n",
    "from sklearn.base import BaseEstimator, TransformerMixin\n",
    "from sklearn.pipeline import Pipeline\n",
    "from sklearn.preprocessing import StandardScaler, LabelBinarizer, Imputer, MinMaxScaler\n",
    "from sklearn.pipeline import FeatureUnion\n",
    "\n",
    "import warnings\n",
    "warnings.filterwarnings('ignore')\n",
    "\n",
    "from sklearn.ensemble import RandomForestClassifier\n",
    "from sklearn.ensemble import RandomForestClassifier\n",
    "from sklearn.model_selection import GridSearchCV\n",
    "from sklearn.model_selection import cross_val_predict\n",
    "\n",
    "from sklearn.externals import joblib\n",
    "\n",
    "##############################################################\n",
    "##Reading the file train.csv to a pandas data frame called df#\n",
    "##############################################################\n",
    "def read_file(file_name):\n",
    "    try:\n",
    "        df = pd.read_csv(file_name)\n",
    "    except:\n",
    "        print(\"EXCEPTION/ERROR in read_file() function. Terminating the program.\")\n",
    "        exit(10)        \n",
    "    return df\n",
    "        \n",
    "\n",
    "def get_train_data(df):\n",
    "    '''\n",
    "    ########################\n",
    "    ##Test Train split:   ##\n",
    "    ########################\n",
    "    Splitting the data into test (20%) and train(80%)\n",
    "    The function will return a list of data frames (X_train,y_train), containing the source and target variables\n",
    "    The function will save the test data as test_data.csv\n",
    "    \n",
    "    The file test_data.csv will be used by score_model.py    \n",
    "\n",
    "    We will divide the Age variable into 8 ranges (Age category), so that we can stratify\n",
    "    the test and train split based on the Age category.\n",
    "    See the EDA document for the detailed analysis, for the reason behind this.\n",
    "    '''\n",
    "    \n",
    "    #Create a new variable called 'age_cat'.\n",
    "    #This variable will contain the age category, and will be used\n",
    "    #to stratify the sampling, while performing test/train split\n",
    "    #The goal is to have right mix of age data in both test and training data\n",
    "    \n",
    "    #Check if the input is a data frame. If not raise an exception and terminate the program.\n",
    "    try:\n",
    "        if not isinstance(df,pd.DataFrame):\n",
    "           raise ValueError\n",
    "    except:\n",
    "        print(\"**EXCEPTION/ERROR**: get_train_data(). The input to this function MUST be a pandas data frame. Terminating the program.\")\n",
    "        exit(10)\n",
    "    \n",
    "    \n",
    "    df['age_cat'] = np.ceil(df[\"Age\"]/8)\n",
    "    df[\"age_cat\"].where(df[\"age_cat\"] < 8, 8.0,inplace=True)\n",
    "\n",
    "\n",
    "\n",
    "    ##We will use random seed of 42 (random_state=42) to reproduce the same results.\n",
    "    ##We will get 4 data frames:\n",
    "    ##X_train: This contains all the training data\n",
    "    ##y_train: This contains the target class for the observations in X_train\n",
    "    ##X_test: This contains all the test data\n",
    "    ##y_test: This contains the target class for the observations in X_test\n",
    "    split =  StratifiedShuffleSplit(n_splits = 1, test_size=0.2, random_state=42)\n",
    "    X = df.drop(['Survived'],axis=1)\n",
    "    y = df['Survived']\n",
    "    X_train, X_test, y_train, y_test = train_test_split( X, y, test_size=0.2, random_state=42, stratify=X['age_cat'])\n",
    "\n",
    "    ##Since age_cat is NOT needed anymore, we will drop it from all the X_train and X_test data frames:\n",
    "    X_train=X_train.drop(['age_cat'],axis=1)\n",
    "    X_test=X_test.drop(['age_cat'],axis=1)\n",
    "\n",
    "    ##The X_test and y_test data frames will NOT be used in training.\n",
    "    ##They will be used to evaluate our final model\n",
    "    ##See program score_model.py\n",
    "    ##Let us save the X_test and y_test data frames, since they will be used by \n",
    "    ##the program: score_model.py\n",
    "    try:\n",
    "        X_test[\"Survived\"] = y_test\n",
    "        X_test.to_csv(\"test_data.csv\",index=False)\n",
    "        #y_test.to_csv(\"test_data_output.csv\",index=False)\n",
    "        \n",
    "    except:\n",
    "        print(\"EXCEPTION/ERROR in get_train_data(). Error occurred while saving the test files.\")\n",
    "\n",
    "    print(\"Saved the test data to test_data_inputs.files and test_data_output.csv files\")\n",
    "    return (X_train,y_train)\n",
    "\n",
    "#######################\n",
    "##Building Pipelines: #\n",
    "#######################\n",
    "\n",
    "## We will use the following transformations. \n",
    "## Each these possible transformations might have different effect on Machine Learning algorithms performance.\n",
    "## The below listed combinations are not exhaustive. The goal is to build a set of transformations,\n",
    "## so that their effect can be tested using Cross Validation technique. In other words, we are creating our own \n",
    "## hyper parameters to tune the algorithms\n",
    "\n",
    "\n",
    "## The Cabin column has a lot of Null values. So we will test two possible combinations: \n",
    "##  1. Drop the Cabin column\n",
    "##  2. Replace the Cabin column with another column Cabin_Indicator. This new column will have 1 whenever \n",
    "##     the Cabin has a non-null value. If the Cabin variable has null vaue, then the new column will have a 0\n",
    "\n",
    "## The Sex variable does not have any null value. We will use LabelBinarizer() to transform the values in Sex\n",
    "## based on one-hot encoding method.\n",
    "\n",
    "\n",
    "## The Pclass has 3 values 3, 2, 1. We will treat these as character variables \n",
    "## and apply LabelBinarizer() on this column also\n",
    "\n",
    "\n",
    "##  The Age column has null values. So we will try the following 3 combinations:\n",
    "##  1. Replace all null values with median\n",
    "##  2. Replace all null values with mean\n",
    "##  3. Replace all null values with most frequent value\n",
    "\n",
    "## To all numeric columns, we have to two options to scale the data:\n",
    "## Std scaler\n",
    "## Min-Max scaler\n",
    "\n",
    "## The _Embarked_ column has 0.22% of null values (or 2 rows. See EDA). We will test the following 2 options:\n",
    "## 1. Treat the null value as a separate class called Embarked_Null, and apply LabelBinarizer().\n",
    "##    Embarked_Null will have a 1, if the corresponding value in Embarked has a non-null value\n",
    "##    else it will have a 0 value\n",
    "   \n",
    "##Pipelines helps us to evaluate the above transformations, and test, if those transformations help (or does not help) the models.\n",
    "##We will use 5 fold Cross Validation technique to evaluate the model performance\n",
    "\n",
    "\n",
    "## In the following code we inherit BaseEstimator and TransformerMixin classes\n",
    "## into our customized classes (which will be used in building the pipelines later).\n",
    "## BaseEstimator will give us fit() and transform() methods, while \n",
    "## TransformerMixi will give us fit_transform()\n",
    "\n",
    "## We need some global variables, so that \n",
    "## we can collect the column names used in the transformations, \n",
    "## for each class\n",
    "\n",
    "##Global variable for Cabin transformer\n",
    "cabin_column_transformed = []   \n",
    "\n",
    "##Global variable for other categorical variables, except Cabin categorical variable \n",
    "categorical_column_transformed = []        \n",
    "\n",
    "\n",
    "\n",
    "## The DataFrameSelector will help us to select the desired columns of a data frame\n",
    "class DataFrameSelector(BaseEstimator, TransformerMixin):\n",
    "    def __init__(self,attribute_names):\n",
    "        self.attribute_names = attribute_names\n",
    "    def fit(self,X, y=None):\n",
    "        return self\n",
    "    def transform(self,X):\n",
    "        return X[self.attribute_names]\n",
    "\n",
    "\n",
    "\n",
    "##Cabin transformer: \n",
    "##Cabin is a categorical variable. But unlike other categorical variables, \n",
    "##we want to test the effect of the following:\n",
    "##The Cabin column has many classes, and mostly Null values (77%). So is this variable really useful?\n",
    "##We will test the models CV score by ignoring cabin column (or)\n",
    "##We will create another column called Cabin_Indicator, which contains 1 \n",
    "##if the corresponding value in Cabin is not null,\n",
    "##else Cabin_Indicator will have 0.\n",
    "\n",
    "class CabinTransformer(BaseEstimator, TransformerMixin):\n",
    "    #The inclusion/exclusion of Cabin variable is controlled by strategy variable\n",
    "    #Default strategy is 'drop'. Other possible value is 'binomial'\n",
    "    \n",
    "    def __init__(self, strategy='drop'): \n",
    "        self.strategy = strategy\n",
    "    \n",
    "    def fit(self, X, y=None):\n",
    "        return self #Nothing else to do\n",
    "    \n",
    "    \n",
    "    def transform(self, X, y=None):\n",
    "        ##The transform function must return a numpy array or a data frame.\n",
    "        ##But how can we get the column names of the transformed data?\n",
    "        ##We will use global variable. \n",
    "        ##For this class we will use cabin_column_transformed\n",
    "        global cabin_column_transformed \n",
    "        \n",
    "        ##Reset the global variable\n",
    "        cabin_column_transformed = []\n",
    "        \n",
    "        ##If strategy is 'drop', then delete the Cabin column\n",
    "        if self.strategy == 'drop':\n",
    "            return X.drop(['Cabin'],axis=1)\n",
    "\n",
    "        ##If strategy is 'binomial', then create Cabin_Indicator            \n",
    "        if self.strategy == 'binomial':\n",
    "            X.loc[:,('Cabin_Indicator')] = X['Cabin'].apply(lambda x: 1 if not pd.isnull(x) else 0)\n",
    "            cabin_column_transformed = ['Cabin_Indicator']\n",
    "            return X.drop(['Cabin'],axis=1)\n",
    "\n",
    "            \n",
    "            \n",
    "            \n",
    "##The following transformation will be applied to all categorical variables, except Cabin, \n",
    "##since Cabin is handled by CabinTransformer\n",
    "##CatNullTransformer will replace all the NaN values in categorical columns with value.\n",
    "##The value is supplied as input to the class constructor. \n",
    "class CatNullTransformer(BaseEstimator, TransformerMixin):\n",
    "    def __init__(self,value): \n",
    "        self.value = value\n",
    "    \n",
    "    def fit(self, X, y=None):\n",
    "        return self #Nothing else to do\n",
    "    \n",
    "    def transform(self, X, y=None):\n",
    "            columns = X.columns\n",
    "            for i in columns:\n",
    "                X.loc[:,(i)] = X[i].fillna(self.value)\n",
    "            return X\n",
    "\n",
    "\n",
    "#The following transformer will be  applied to all categorical variables except Cabin\n",
    "#The below code might look complex, but I had to write this logic due to the following drawbacks\n",
    "#of the existing encoders:\n",
    "##1. We can use get_dummies of pandas. But without modifying or creating a custom transformer, it is not possible to use it in pipeline.\n",
    "##   For example, if we have ['r','g'] in column color, then get_dummies() will give us following:\n",
    "##   color_r color_g\n",
    "##   ------- -------\n",
    "##   1       0\n",
    "##   0       1\n",
    "##   But if our test data has an extra class 'b' or does not have 'r' or 'g', then we will bet different dummy variables.\n",
    "##   Another drawback is, color_r and color_g are correlated. Only one variable is sufficient to represent both values.\n",
    "##   If we have n classes, then we need n-1 dummy variables to represent all the classes. \n",
    "\n",
    "##2. We can use LabelBinarizer(). But it has the following drabacks:\n",
    "##2a. LabelBinarizer cannot take more than one categoricalcolumn as input.\n",
    "##2b. LabelBinarizer behaves differently based on the number of unique classes in the input categorical variable.\n",
    "##    For example, if we fit LabelBinarizer on a categorical variable with values ['red','blue'], then it will create\n",
    "##    a model of LabelBinarizer. Now if we aply transform() on ['red','blue'], then we will get a one column variable\n",
    "##    [1, 0]. However if we try to transform ['red','blue','green'], using the same LabelBinarizer model fit on ['red','blue'], then\n",
    "##    we will get a matrix (like the following):\n",
    "##    [[0,1],\n",
    "##     [1,0],\n",
    "##     [0,0]]\n",
    "##    Ideally we should get the matrix shown below:\n",
    "##    [1, 0, 0]\n",
    "##\n",
    "##2c. Another drawback of LabelBinarizer is, if we have only 2 classes in a variable only one dummy variable is created to \n",
    "##    represent the data. But if we have more than 2 classes, then the number of dummy variables is equal to the number of\n",
    "##    classes. Ideally, if we have n classes, we should get n-1 dummy variables only.\n",
    "\n",
    "##The following transformer must be applied on pandas data frame only. This transformer can process multiple categorical\n",
    "##columns and also creates dummy variables based on the principle: n-1 dummy variables per categorical variable, if the \n",
    "##categorical variable has n classes. NOTE we will use a global variable categorical_column_transformed to collect the \n",
    "##dummy variable names. \n",
    "class CatMultiLabelTransformer(BaseEstimator, TransformerMixin):\n",
    "    def __init__(self): \n",
    "        pass ##Nothing to do\n",
    "    \n",
    "    def fit(self, X, y=None):\n",
    "        \n",
    "        ##Check if input object is a pandas df, else raise exception\n",
    "        try:\n",
    "            if not isinstance(X,pd.DataFrame):\n",
    "               raise ValueError\n",
    "        except:\n",
    "            print(\"**EXCEPTION/ERROR**: CatMultiLabelTransformer.fit() can accept only Pandas dataframe\")\n",
    "            exit(10)\n",
    "        \n",
    "        ##Create an empty list, which will be updated with LabelBinarizer for each column        \n",
    "        self.binarizers=[]\n",
    "        ##Declare the categorical_column_transformed as global variable, so that we can update it\n",
    "        ##with column names used in the final transformation\n",
    "        \n",
    "        global categorical_column_transformed \n",
    "        ##Reset the global variable to empty list, to flushout any previous data.\n",
    "        categorical_column_transformed = []\n",
    "        \n",
    "        ##Fit a LabelBinarizer for each column and save the models in a class variable\n",
    "        for i in X.columns:\n",
    "            lb = LabelBinarizer()\n",
    "            self.binarizers.append(lb.fit(X[i]))\n",
    "            \n",
    "            ##Prefix the dummy variables (class names)  with the variable name (or column name), \n",
    "            ##so that we can distinguish the data\n",
    "            ##If a class called 'male' is present in two variables, then the column prefix will help\n",
    "            ##us to distinguish between the variables data in the dummy variables\n",
    "            categorical_column_transformed.append([str(i) + \"_\" + str(j) for j in list(lb.classes_)])\n",
    "            \n",
    "        ##Declare a list object to collect the variable names after applying LabelBinarizer on each column\n",
    "        self.X_fit_classes = []    \n",
    "        \n",
    "        for i,j in enumerate(categorical_column_transformed):\n",
    "              ##If we have only two classes like 'male' and 'female', then we should consider \n",
    "              ##only one of the classes, since LabelBinarizer will encode the 2 values using one dummy variable only        \n",
    "              if len(j) == 2:\n",
    "                 self.X_fit_classes.append(j[1])\n",
    "              else:\n",
    "              ##If we have more than two classes like 'r', 'g' 'b' \n",
    "              ## LabelBinarizer will encode the data using 3 dummy variables, and hence we have to consider first 2 variables only\n",
    "              ## In general, if we have n (where n>2) dummy variables given by LabelBinarizer, then we need to consider only n-1 variables\n",
    "                 self.X_fit_classes = self.X_fit_classes+j[0:len(j)-1]\n",
    "        ##Update the global variable                 \n",
    "        categorical_column_transformed = self.X_fit_classes         \n",
    "                 \n",
    "        return self\n",
    "    \n",
    "    def transform(self, X, y=None):\n",
    "            ##Check if input object is a pandas df, else raise exception\n",
    "            try:\n",
    "               if not isinstance(X,pd.DataFrame):\n",
    "                  raise ValueError\n",
    "            except:\n",
    "               print(\"**EXCEPTION/ERROR**: CatMultiLabelTransformer.transform() can accept only Pandas dataframe\")\n",
    "               exit(10)\n",
    "\n",
    "            ##Declare an empty numpy matrix,\n",
    "            ##This will be a recurrent matrix to collect all the variables transformations\n",
    "            ##The inital data used to initialize the matrix will be discarded later\n",
    "            X_transform = np.empty([len(X),1])\n",
    "            \n",
    "            ##We will again collect the class names, similar to the way we collected in the fit(), using X_fit_classels list.\n",
    "            ##At the end we will compare the X_fit_classes and X_transform_classes, and raise an exception if they have different values\n",
    "            X_transform_classes = []\n",
    "\n",
    "            #Process all the columns, one after the other             \n",
    "            for i,j in enumerate(X.columns):\n",
    "                ##Collect the transformed data into a temp variable\n",
    "                temp_transformed_data = self.binarizers[i].transform(X[j])\n",
    "                ##Get the shape of the transformed data\n",
    "                temp_transformed_data_cols = temp_transformed_data.shape[1]\n",
    "                \n",
    "                #If number of classes is more than 2,\n",
    "                #then collect all the class names, since\n",
    "                #label binarizer will create n dummy variables, if we have n classes, when n > 2\n",
    "                #We will modify the class name by prefixing the class with column name\n",
    "                #Here also we will prefix the class name with the column name\n",
    "                if temp_transformed_data_cols > 2:\n",
    "                    X_transform_classes.append([j +\"_\"+ str(c) for c in list(self.binarizers[i].classes_)])\n",
    "                    ##Update the recurrent matrix with new data                    \n",
    "                    X_transform=np.c_[X_transform,temp_transformed_data]\n",
    "\n",
    "                #If the number of classes is 2, then label binarizer will create one variable only,\n",
    "                #although the lb.classes_ will have 2 values. lb.classes[1] will be the corresponding\n",
    "                #label where the binarized column will have 1.\n",
    "                #Here also we will prefix the class name with the column name\n",
    "                #print(\"temp_transformed_data_col = {}\".format(temp_transformed_data_cols))\n",
    "                #print(temp_transformed_data)\n",
    "                if temp_transformed_data_cols == 2:\n",
    "                    X_transform_classes.append([j + \"_\" + str(list(self.binarizers[i].classes_)[1])])\n",
    "                    X_transform=np.c_[X_transform,temp_transformed_data[:,1]]\n",
    "                 \n",
    "        \n",
    "                #If the number of classes is 1 or 2, then label binarizer will create one variable only\n",
    "                #Here also we will prefix the class name with the column name\n",
    "                if temp_transformed_data_cols == 1:\n",
    "                  ##Check if only one dummy variable is created due to the presence of only one class\n",
    "                  if len(self.binarizers[i].classes_) == 1:\n",
    "                      X_transform_classes.append([j + \"_\" + str(list(self.binarizers[i].classes_)[0])])\n",
    "                  ##Check if only one dummy variable is created due to the presence of only two class    \n",
    "                  if len(self.binarizers[i].classes_) == 2:\n",
    "                      X_transform_classes.append([j + \"_\" + str(list(self.binarizers[i].classes_)[1])])\n",
    "                  X_transform=np.c_[X_transform,temp_transformed_data]\n",
    "            \n",
    "            ##Flat the list of lists to a singe list\n",
    "            X_transform_classes=[item for sublist in X_transform_classes for item in sublist]   \n",
    "            \n",
    "            #We need to remove the 0th column of recurrent matrix X_transform, since we created a dummy column initially\n",
    "            #since we need to initialize the recurrent array with some initial value\n",
    "            X_transform = np.delete(X_transform,0,axis=1)\n",
    "            \n",
    "            #Create a data frame with the dummy variable names.\n",
    "            X_transform = pd.DataFrame(X_transform,columns = X_transform_classes)\n",
    "            \n",
    "            #But we need to drop the extra dummy variables (if we have n classes, we need only n-1 dummy variables)\n",
    "            X_transform = X_transform[self.X_fit_classes]\n",
    "            return X_transform\n",
    "\n",
    "##Testing the above transformer. Call the below function to test:\n",
    "def test_CatMultiLabelTransformer(input=True):\n",
    "  if input:\n",
    "    ct = CatMultiLabelTransformer()\n",
    "    demo_df_1=pd.DataFrame(['red','green'],columns=['Color'])\n",
    "    ct.fit(demo_df_1)\n",
    "    print(\"\\n\\nFitted data frame or training data:\\n{}\".format(demo_df_1))\n",
    "    print(\"\\n\\nData to be transformed is given below:.\\nObserve that we have new class 'blue'\")\n",
    "    print(\"'blue' was not existing the training data.\\n\\n\")\n",
    "    demo_df_2 = pd.DataFrame(['red','green','blue'],columns=['Color'])\n",
    "    print(demo_df_2)\n",
    "    print(\"\\nAfter transforming/encoding...\\n\")\n",
    "    print(pd.DataFrame(ct.transform(demo_df_2),columns=categorical_column_transformed))\n",
    "    print(\"But if we have 3 classes in the training data:\")\n",
    "    print(\"Another training data set:\")\n",
    "    demo_df_1=pd.DataFrame(['S','M','XL'],columns=['Sizes'])\n",
    "    ct.fit(demo_df_1)\n",
    "    print(\"\\n\\nFitted data frame or training data:\\n{}\".format(demo_df_1))\n",
    "    print(\"Transformed data:\")\n",
    "    print(pd.DataFrame(ct.transform(demo_df_1),columns=categorical_column_transformed))\n",
    "  else:\n",
    "    pass  \n",
    "\n",
    "#To test CatMultiLabelTransformer, call test_CatMultiLabelTransformer(input=True)      \n",
    "test_CatMultiLabelTransformer(input=False)\n",
    "\n",
    "\n",
    "##The ScaleData will help us to evaluate which scale method performs better\n",
    "##We will use std scaler by default, but another option is min-max scaler.\n",
    "##The constructor parm std_scaler can be used to control this option while \n",
    "##testing the models using CV method.            \n",
    "class ScaleData(BaseEstimator, TransformerMixin):\n",
    "    def __init__(self,std_scaler=True):\n",
    "        self.std_scaler = std_scaler\n",
    "    def fit(self,X, y=None):\n",
    "        if self.std_scaler == True:\n",
    "           self.scaler = StandardScaler()\n",
    "        else:\n",
    "           self.scaler = MinMaxScaler()\n",
    "        return self.scaler.fit(X)\n",
    "\n",
    "    def transform(self,X):\n",
    "        return self.scaler.transform(X)\n",
    "        \n",
    "#Numeric columns. We will ignore passenger ID and Ticket            \n",
    "numeric_columns = ['Age','SibSp','Parch','Fare']        \n",
    "\n",
    "#Categorical columns except the Cabin column        \n",
    "categorical_columns = ['Pclass','Sex','Embarked']\n",
    "\n",
    "#Define a pipeline for numeric variables transformation\n",
    "#Age is the only column with Null values, but will still impute for all\n",
    "#Numerical variables, since we do not know if the input numerical data contains \n",
    "#unavailable data after we deploy the model in Production\n",
    "\n",
    "\n",
    "#Pipeline to handle numeric columns\n",
    "#We are using the default impute strategy as 'median', but we will test 'average' and 'most frequently' also\n",
    "numeric_pipeline = Pipeline([('selector',DataFrameSelector(numeric_columns)),\n",
    "                            ('imputer',Imputer(strategy='median')),\n",
    "                            ('scaledata',ScaleData(std_scaler=False))])\n",
    "\n",
    "#Pipeline to handle Cabin column                             \n",
    "cabin_pipeline = Pipeline([('selector',DataFrameSelector(['Cabin'])),\n",
    "                           ('CabinTransformer',CabinTransformer(strategy='binomial'))\n",
    "                          ])\n",
    "\n",
    "#Pipeline to handle categorical columns (except cabin column)\n",
    "categorical_pipeline = Pipeline([('selector',DataFrameSelector(categorical_columns)),\n",
    "                                 ('fillnull',CatNullTransformer(value='Null')),\n",
    "                                 ('CatMultiLabelTransformer',CatMultiLabelTransformer())\n",
    "                                ])\n",
    "\n",
    "#Combine all the transformations                                \n",
    "full_transform_pipeline = FeatureUnion(transformer_list=[\n",
    "           (\"numeric_pipeline\",numeric_pipeline),\n",
    "           (\"cabin_pipeline\",cabin_pipeline),\n",
    "           (\"categorical_pipeline\",categorical_pipeline)\n",
    "           ])            \n",
    "\n",
    "def main():\n",
    "        ##In this block we will actually get the train data, perform transformations and\n",
    "        ##fit the best model based on accuracy of 5 fold CV test.\n",
    "        \n",
    "        ##Read the file\n",
    "        df = read_file('./train.csv')\n",
    "        \n",
    "        ##Get the training data\n",
    "        X_train,y_train = get_train_data(df)\n",
    "        \n",
    "        ##Display sample rows of training data after the final transformation\n",
    "        training_data_transformed = full_transform_pipeline.fit_transform(X_train)\n",
    "        training_variables = numeric_columns + cabin_column_transformed + categorical_column_transformed\n",
    "        print(\"\\n\\nTransformed data (initial 5 rows only), which is ready for training is displayed below:\\n\")\n",
    "        print(pd.DataFrame(training_data_transformed,columns = training_variables).head(5))\n",
    "\n",
    "        ##Fitting a random forest model\n",
    "        rf_prepare_and_train = Pipeline([('full_transform_pipeline',full_transform_pipeline),\n",
    "                                   ('rf',RandomForestClassifier())\n",
    "                                  ])\n",
    "\n",
    "        ##Define a dictionary containing the list of hyper parms to be tested                          \n",
    "        ##For random forest, we will test the CV score using 5,10,50,100 trees\n",
    "        parm_grid = [{'full_transform_pipeline__cabin_pipeline__CabinTransformer__strategy': ['drop','binomial'], \n",
    "                      'full_transform_pipeline__numeric_pipeline__imputer__strategy':['mean','median','most_frequent'],\n",
    "                      'full_transform_pipeline__numeric_pipeline__scaledata__std_scaler':[True,False],\n",
    "                      'rf__n_estimators':[10,50,100]}]\n",
    "\n",
    "        ##Perform grid search with a CV of 5\n",
    "        ##Change verbose=2, to display detailed report\n",
    "        grid_search = GridSearchCV(rf_prepare_and_train,parm_grid,cv=5,scoring='accuracy',verbose=1)\n",
    "        grid_search.fit(X_train,y_train)              \n",
    "\n",
    "        print(\"Best hyper parameters using Random Forests:\")\n",
    "        print(grid_search.best_params_)\n",
    "\n",
    "        print(\"Best 5 fold CV score (accuracy):\")\n",
    "        print(grid_search.best_score_)\n",
    "\n",
    "        final_model = grid_search.best_estimator_\n",
    "        print(final_model)\n",
    "        final_model.fit(X_train,y_train)\n",
    "        print(\"Saving the best model..\")\n",
    "        joblib.dump(final_model,\"rf_best_model.pkl\")\n",
    "        print(\"Saving Complete!\")\n",
    "\n",
    "\n",
    "##Boiler plate\n",
    "if __name__ == '__main__':\n",
    "    main()"
   ]
  },
  {
   "cell_type": "markdown",
   "metadata": {},
   "source": [
    "## Model evaluation on test data"
   ]
  },
  {
   "cell_type": "code",
   "execution_count": 22,
   "metadata": {},
   "outputs": [
    {
     "name": "stdout",
     "output_type": "stream",
     "text": [
      "\n",
      "Scores of Random Forest:\n",
      "Test f1 score:0.7500000000000001\n",
      "Test precision score:0.7758620689655172\n",
      "Test recall score:0.7258064516129032\n",
      "Test accuracy score:0.8324022346368715\n",
      "\n",
      " Saving the results to accuracy_report.txt...\n",
      "\n",
      "Accuracy report saved!!\n",
      "Displaying the confusion matrix...\n",
      "Close the figure to proceed further ...\n"
     ]
    },
    {
     "data": {
      "image/png": "[encoded data removed]",
      "text/plain": [
       "<matplotlib.figure.Figure at 0x14459130898>"
      ]
     },
     "metadata": {},
     "output_type": "display_data"
    },
    {
     "name": "stdout",
     "output_type": "stream",
     "text": [
      "Confusion matrix is saved as confusion_matrix.png!!\n"
     ]
    },
    {
     "data": {
      "text/plain": [
       "<matplotlib.figure.Figure at 0x14458d65b38>"
      ]
     },
     "metadata": {},
     "output_type": "display_data"
    }
   ],
   "source": [
    "##score_model.py\n",
    "from sklearn.metrics import confusion_matrix, f1_score, precision_score, recall_score, accuracy_score\n",
    "from sklearn.metrics import confusion_matrix\n",
    "import seaborn as sns\n",
    "\n",
    "def plot_conf_matrix(y_test,y_test_predict,model):\n",
    "\n",
    "        ##Generate the confusion matrix\n",
    "        cm = confusion_matrix(y_test, y_test_predict)\n",
    "        cm = cm.astype('float') / cm.sum(axis=1)[:, np.newaxis]\n",
    "\n",
    "        # view with a heatmap\n",
    "        sns.heatmap(cm, annot=True, annot_kws={\"size\":30}, \n",
    "                    cmap='Blues', square=True, fmt='.3f')\n",
    "        plt.ylabel('True label')\n",
    "        plt.xlabel('Predicted label')\n",
    "        plt.title('Confusion matrix for:\\n{}'.format(model))\n",
    "        print(\"Displaying the confusion matrix...\")\n",
    "        print(\"Close the figure to proceed further ...\")\n",
    "        plt.show()\n",
    "        plt.savefig('confusion_matrix.png')\n",
    "        print(\"Confusion matrix is saved as confusion_matrix.png!!\")\n",
    "\n",
    "def print_and_save_report(y_test,y_test_predict,model):\n",
    "       print(\"\\nScores of \"+model+\":\")        \n",
    "       print(\"Test f1 score:{}\".format(f1_score(y_test,y_test_predict)))\n",
    "       print(\"Test precision score:{}\".format(precision_score(y_test,y_test_predict)))\n",
    "       print(\"Test recall score:{}\".format(recall_score(y_test,y_test_predict)))\n",
    "       print(\"Test accuracy score:{}\".format(accuracy_score(y_test,y_test_predict)))\n",
    "       print(\"\\n Saving the results to accuracy_report.txt...\")\n",
    "       with open('accuracy_report.txt','w') as f:\n",
    "             f.write(\"Test f1 score:{}\".format(f1_score(y_test,y_test_predict)))\n",
    "             f.write(\"\\nTest precision score:{}\".format(precision_score(y_test,y_test_predict)))\n",
    "             f.write(\"\\nTest recall score:{}\".format(recall_score(y_test,y_test_predict)))\n",
    "             f.write(\"\\nTest accuracy score:{}\".format(accuracy_score(y_test,y_test_predict)))\n",
    "       print(\"\\nAccuracy report saved!!\")     \n",
    "\n",
    "\n",
    "def main():\n",
    "        ##Read the saved model\n",
    "        rf_model = joblib.load(\"rf_best_model.pkl\")\n",
    "        ##Read the file (using the function in the package train_model)\n",
    "        X_test = read_file('./test_data.csv')\n",
    "        y_test = X_test['Survived']\n",
    "        X_test = X_test.drop(['Survived'],axis=1)\n",
    "\n",
    "        y_test_predict = rf_model.predict(X_test)\n",
    "        print_and_save_report(y_test,y_test_predict,'Random Forest')\n",
    "        plot_conf_matrix(y_test,y_test_predict,'Random Forest')\n",
    "        \n",
    "##Boiler plate syntax        \n",
    "if __name__ == '__main__':\n",
    "    main()"
   ]
  },
  {
   "cell_type": "code",
   "execution_count": null,
   "metadata": {
    "collapsed": true
   },
   "outputs": [],
   "source": []
  }
 ],
 "metadata": {
  "kernelspec": {
   "display_name": "Python 3",
   "language": "python",
   "name": "python3"
  },
  "language_info": {
   "codemirror_mode": {
    "name": "ipython",
    "version": 3
   },
   "file_extension": ".py",
   "mimetype": "text/x-python",
   "name": "python",
   "nbconvert_exporter": "python",
   "pygments_lexer": "ipython3",
   "version": "3.5.3"
  }
 },
 "nbformat": 4,
 "nbformat_minor": 2
}
